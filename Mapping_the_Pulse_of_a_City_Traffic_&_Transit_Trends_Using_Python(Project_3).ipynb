{
  "nbformat": 4,
  "nbformat_minor": 0,
  "metadata": {
    "colab": {
      "private_outputs": true,
      "provenance": []
    },
    "kernelspec": {
      "name": "python3",
      "display_name": "Python 3"
    },
    "language_info": {
      "name": "python"
    }
  },
  "cells": [
    {
      "cell_type": "markdown",
      "source": [
        "#**Mapping the Pulse of a City: Traffic & Transit Trends Using Python**\n",
        "\n",
        "---\n",
        "\n"
      ],
      "metadata": {
        "id": "nNk7HdGil3-j"
      }
    },
    {
      "cell_type": "markdown",
      "source": [
        "#**1. Installing Required Libraries and Packages**"
      ],
      "metadata": {
        "id": "NGch7LJN_Kmh"
      }
    },
    {
      "cell_type": "code",
      "execution_count": null,
      "metadata": {
        "collapsed": true,
        "id": "LoDMJMvzkRF9"
      },
      "outputs": [],
      "source": [
        "#Installing required libraries\n",
        "!pip install geopandas folium plotly scikit-learn osmnx pyarrow fastparquet streamlit-folium"
      ]
    },
    {
      "cell_type": "markdown",
      "source": [
        "#**2. Mounting Drive**"
      ],
      "metadata": {
        "id": "NSOzP4Xc_YQG"
      }
    },
    {
      "cell_type": "code",
      "source": [
        "from google.colab import drive\n",
        "import os\n",
        "\n",
        "# Mounting Google Drive\n",
        "drive.mount('/content/drive', force_remount=True)\n",
        "\n",
        "# Defining project path inside Drive\n",
        "project_path = \"/content/drive/MyDrive/urban_mobility/\"\n",
        "\n",
        "# Creating folders\n",
        "os.makedirs(project_path + \"data/raw\", exist_ok=True)\n",
        "os.makedirs(project_path + \"data/processed\", exist_ok=True)\n",
        "os.makedirs(project_path + \"outputs/maps\", exist_ok=True)\n",
        "os.makedirs(project_path + \"outputs/plots\", exist_ok=True)\n",
        "\n",
        "print(\"Project folders created at:\", project_path)"
      ],
      "metadata": {
        "collapsed": true,
        "id": "ZRpGlE1UmTqS"
      },
      "execution_count": null,
      "outputs": []
    },
    {
      "cell_type": "code",
      "source": [
        "from google.colab import drive\n",
        "drive.mount('/content/drive')\n",
        "\n",
        "# Defining project path inside Google Drive\n",
        "project_path = \"/content/drive/MyDrive/urban_mobility\""
      ],
      "metadata": {
        "id": "bJXeY7mt8hzz"
      },
      "execution_count": null,
      "outputs": []
    },
    {
      "cell_type": "markdown",
      "source": [
        "\n",
        "\n",
        "---\n",
        "\n"
      ],
      "metadata": {
        "id": "x07U5BXc9kEk"
      }
    },
    {
      "cell_type": "markdown",
      "source": [
        "#**3. Loading Datasets - Metro Station + Metro Daily Ridership**"
      ],
      "metadata": {
        "id": "buq9TDWO_e8A"
      }
    },
    {
      "cell_type": "code",
      "source": [
        "#Now loading the dataset for Metro Stations\n",
        "import geopandas as gpd\n",
        "\n",
        "stations_path = \"/content/drive/MyDrive/bengaluru-metro-stations.kml\"\n",
        "stations = gpd.read_file(stations_path, driver='KML')\n",
        "\n",
        "print(\"Metro stations loaded successfully.\")\n",
        "print(stations.head())"
      ],
      "metadata": {
        "collapsed": true,
        "id": "sbI_dfj99Sjy"
      },
      "execution_count": null,
      "outputs": []
    },
    {
      "cell_type": "code",
      "source": [
        "#Now loading the dataset for Metro Daily Ridership\n",
        "import pandas as pd\n",
        "\n",
        "ridership_path = \"/content/drive/MyDrive/NammaMetro_Ridership_Dataset.csv\"\n",
        "ridership = pd.read_csv(ridership_path, parse_dates=['Record Date'])\n",
        "\n",
        "print(\"Daily ridership data loaded successfully.\")\n",
        "print(ridership.head())\n",
        "print(\"\\nColumns:\", ridership.columns)\n",
        "print(\"\\nData types:\\n\", ridership.dtypes)"
      ],
      "metadata": {
        "collapsed": true,
        "id": "YvchZXml-Fn4"
      },
      "execution_count": null,
      "outputs": []
    },
    {
      "cell_type": "markdown",
      "source": [
        "\n",
        "\n",
        "---\n",
        "\n"
      ],
      "metadata": {
        "id": "qaLtazFD9mZs"
      }
    },
    {
      "cell_type": "markdown",
      "source": [
        "#**4. Datasets Cleaning**"
      ],
      "metadata": {
        "id": "VzifFMd-_uef"
      }
    },
    {
      "cell_type": "code",
      "source": [
        "#Metro Stations Dataset\n",
        "\n",
        "# Checking basic info\n",
        "print(stations.info())\n",
        "print(stations.head())\n",
        "\n",
        "# Renaming columns for clarity\n",
        "stations = stations.rename(columns={\"Name\": \"station_name\"})\n",
        "\n",
        "# Removing duplicates or missing values\n",
        "stations = stations.drop_duplicates(subset=\"station_name\")\n",
        "stations = stations.dropna()\n",
        "\n",
        "print(\"Cleaned Metro Stations\")\n",
        "print(stations.head())"
      ],
      "metadata": {
        "collapsed": true,
        "id": "135mUhC1-iQN"
      },
      "execution_count": null,
      "outputs": []
    },
    {
      "cell_type": "code",
      "source": [
        "#Metro Daily Ridership\n",
        "\n",
        "# Checking structure\n",
        "print(ridership.info())\n",
        "print(ridership.head())\n",
        "\n",
        "# Ensuring 'Record Date' column is datetime\n",
        "ridership['Record Date'] = pd.to_datetime(ridership['Record Date'], errors='coerce')\n",
        "\n",
        "# Dropping nulls in 'Record Date' if any coercion failed\n",
        "ridership = ridership.dropna(subset=['Record Date'])\n",
        "\n",
        "# Sorting by date\n",
        "ridership = ridership.sort_values('Record Date')\n",
        "\n",
        "# Resetting index\n",
        "ridership = ridership.reset_index(drop=True)\n",
        "\n",
        "print(\"Cleaned Daily Ridership\")\n",
        "print(ridership.head())"
      ],
      "metadata": {
        "collapsed": true,
        "id": "1cPJouK-AIgN"
      },
      "execution_count": null,
      "outputs": []
    },
    {
      "cell_type": "markdown",
      "source": [
        "\n",
        "\n",
        "---\n",
        "\n"
      ],
      "metadata": {
        "id": "Rg23AJ0-DxsU"
      }
    },
    {
      "cell_type": "markdown",
      "source": [
        "#A small visual representation"
      ],
      "metadata": {
        "id": "322tL8ufA6tv"
      }
    },
    {
      "cell_type": "code",
      "source": [
        "#Ridership Trends\n",
        "\n",
        "import matplotlib.pyplot as plt\n",
        "\n",
        "# Calculating total ridership by summing relevant columns\n",
        "ridership['total_ridership'] = ridership['Total Smart Cards'] + ridership['Total Tokens'] + ridership['Total QR']\n",
        "\n",
        "plt.figure(figsize=(12,6))\n",
        "plt.plot(ridership['Record Date'], ridership['total_ridership'], color='olive')\n",
        "plt.title(\"Bengaluru Metro - Daily Ridership Over Time\")\n",
        "plt.xlabel(\"Date\")\n",
        "plt.ylabel(\"Total Passengers\")\n",
        "plt.grid(True)\n",
        "plt.show()"
      ],
      "metadata": {
        "collapsed": true,
        "id": "MpqXQ6ToApEo"
      },
      "execution_count": null,
      "outputs": []
    },
    {
      "cell_type": "code",
      "source": [
        "#Summary\n",
        "print(\"Ridership Summary Stats\")\n",
        "print(ridership['total_ridership'].describe())"
      ],
      "metadata": {
        "collapsed": true,
        "id": "ST0Ypx6rBJWt"
      },
      "execution_count": null,
      "outputs": []
    },
    {
      "cell_type": "markdown",
      "source": [
        "\n",
        "\n",
        "---\n",
        "\n"
      ],
      "metadata": {
        "id": "OJ3u8tyiD0aN"
      }
    },
    {
      "cell_type": "markdown",
      "source": [
        "#**5. Doing Exploratory Data Analysis(EDA) for Bengaluru Metro**"
      ],
      "metadata": {
        "id": "Fz6YmqwTB-cA"
      }
    },
    {
      "cell_type": "markdown",
      "source": [
        "#Exploring Ridership Patterns"
      ],
      "metadata": {
        "id": "6tqXyUlKCQjv"
      }
    },
    {
      "cell_type": "code",
      "source": [
        "#1. Monthly and Weekly Averages\n",
        "\n",
        "# Adding month and weekday columns\n",
        "ridership['month'] = ridership['Record Date'].dt.to_period('M')\n",
        "ridership['weekday'] = ridership['Record Date'].dt.day_name()\n",
        "\n",
        "# Monthly trend\n",
        "monthly = ridership.groupby('month')['total_ridership'].mean().reset_index()\n",
        "\n",
        "plt.figure(figsize=(12,6))\n",
        "plt.plot(monthly['month'].astype(str), monthly['total_ridership'], marker='o', color='green')\n",
        "plt.title(\"Average Monthly Ridership - Bengaluru Metro\")\n",
        "plt.xticks(rotation=45)\n",
        "plt.ylabel(\"Passengers\")\n",
        "plt.grid(True)\n",
        "plt.show()\n",
        "\n",
        "# Weekday trend\n",
        "weekday = ridership.groupby('weekday')['total_ridership'].mean().reindex(\n",
        "    [\"Monday\",\"Tuesday\",\"Wednesday\",\"Thursday\",\"Friday\",\"Saturday\",\"Sunday\"]\n",
        ")\n",
        "\n",
        "plt.figure(figsize=(10,5))\n",
        "weekday.plot(kind='bar', color='olive')\n",
        "plt.title(\"Average Ridership by Weekday\")\n",
        "plt.ylabel(\"Passengers\")\n",
        "plt.show()"
      ],
      "metadata": {
        "id": "ee2mbzSIBWsH"
      },
      "execution_count": null,
      "outputs": []
    },
    {
      "cell_type": "markdown",
      "source": [
        "#Exploring Metro Stations Dataset"
      ],
      "metadata": {
        "id": "C6NpU_--DAGs"
      }
    },
    {
      "cell_type": "code",
      "source": [
        "#1.Plotting all Metro Stations on a map\n",
        "\n",
        "import folium\n",
        "\n",
        "# Getting center of Bengaluru\n",
        "bengaluru_center = [12.9716, 77.5946]\n",
        "\n",
        "# Creating map\n",
        "m = folium.Map(location=bengaluru_center, zoom_start=12)\n",
        "\n",
        "# Adding station markers\n",
        "for _, row in stations.iterrows():\n",
        "    folium.Marker(\n",
        "        location=[row.geometry.y, row.geometry.x],\n",
        "        popup=row['station_name'],\n",
        "        icon=folium.Icon(color='blue', icon='train', prefix='fa')\n",
        "    ).add_to(m)\n",
        "\n",
        "m"
      ],
      "metadata": {
        "id": "nBw6HvljCg6E"
      },
      "execution_count": null,
      "outputs": []
    },
    {
      "cell_type": "markdown",
      "source": [
        "\n",
        "\n",
        "---\n",
        "\n"
      ],
      "metadata": {
        "id": "-2nb_xrxD3tc"
      }
    },
    {
      "cell_type": "markdown",
      "source": [
        "#**6. Advanced Analysis**"
      ],
      "metadata": {
        "id": "iIP9KBvGD5Td"
      }
    },
    {
      "cell_type": "markdown",
      "source": [
        "#A. Clustering Metro Stations(K-Means)"
      ],
      "metadata": {
        "id": "MZPfDBGZEJFs"
      }
    },
    {
      "cell_type": "code",
      "source": [
        "from sklearn.cluster import KMeans\n",
        "import matplotlib.pyplot as plt\n",
        "\n",
        "# Extracting the coordinates\n",
        "coords = stations['geometry'].apply(lambda x: (x.y, x.x)).tolist()\n",
        "X = pd.DataFrame(coords, columns=['lat','lon'])\n",
        "\n",
        "# Running K-Means ( 3 clusters)\n",
        "kmeans = KMeans(n_clusters=3, random_state=42)\n",
        "X['cluster'] = kmeans.fit_predict(X[['lat','lon']])\n",
        "\n",
        "# Adding cluster back to stations\n",
        "stations['cluster'] = X['cluster']\n",
        "\n",
        "print(stations.head())\n",
        "\n",
        "# Plotting clusters\n",
        "plt.figure(figsize=(8,6))\n",
        "plt.scatter(X['lon'], X['lat'], c=X['cluster'], cmap='tab10', s=80)\n",
        "plt.xlabel(\"Longitude\")\n",
        "plt.ylabel(\"Latitude\")\n",
        "plt.title(\"Station Clusters - Bengaluru Metro\")\n",
        "plt.show()"
      ],
      "metadata": {
        "collapsed": true,
        "id": "CN5eQpZ9DSW2"
      },
      "execution_count": null,
      "outputs": []
    },
    {
      "cell_type": "markdown",
      "source": [
        "#B. Forecasting Daily Riderships(Time Series)"
      ],
      "metadata": {
        "id": "j2c3ZtEiEfBT"
      }
    },
    {
      "cell_type": "code",
      "source": [
        "from statsmodels.tsa.arima.model import ARIMA\n",
        "import matplotlib.pyplot as plt\n",
        "\n",
        "# Use only total_ridership series\n",
        "ts = ridership.set_index('Record Date')['total_ridership']\n",
        "\n",
        "# Train-test split\n",
        "train = ts[:-30]\n",
        "test = ts[-30:]\n",
        "\n",
        "# Fit ARIMA model\n",
        "model = ARIMA(train, order=(5,1,0))\n",
        "fit = model.fit()\n",
        "\n",
        "# Forecast next 30 days\n",
        "forecast = fit.forecast(steps=30)\n",
        "\n",
        "plt.figure(figsize=(12,6))\n",
        "plt.plot(train.index, train, label=\"Train\")\n",
        "plt.plot(test.index, test, label=\"Test\", color='red')\n",
        "plt.plot(forecast.index, forecast, label=\"Forecast\", color='olive')\n",
        "plt.legend()\n",
        "plt.title(\"Daily Ridership Forecast - Bengaluru Metro\")\n",
        "plt.show()"
      ],
      "metadata": {
        "collapsed": true,
        "id": "SdQR0OFaEWMu"
      },
      "execution_count": null,
      "outputs": []
    },
    {
      "cell_type": "markdown",
      "source": [
        "#C. Heatmap of Metro Stations"
      ],
      "metadata": {
        "id": "uCeGoM_YFOkN"
      }
    },
    {
      "cell_type": "code",
      "source": [
        "from folium.plugins import HeatMap\n",
        "\n",
        "# Prepare heatmap data\n",
        "heat_data = [[row.geometry.y, row.geometry.x] for idx, row in stations.iterrows()]\n",
        "\n",
        "m_heat = folium.Map(location=bengaluru_center, zoom_start=12)\n",
        "HeatMap(heat_data).add_to(m_heat)\n",
        "\n",
        "m_heat"
      ],
      "metadata": {
        "id": "4V6TNudHE4Xb"
      },
      "execution_count": null,
      "outputs": []
    },
    {
      "cell_type": "markdown",
      "source": [
        "\n",
        "\n",
        "---\n",
        "\n"
      ],
      "metadata": {
        "id": "xgCxHrK-FaIS"
      }
    },
    {
      "cell_type": "markdown",
      "source": [
        "#**7. Dashboard**"
      ],
      "metadata": {
        "id": "uW4a0qBIFbQ8"
      }
    },
    {
      "cell_type": "code",
      "source": [
        "import pandas as pd\n",
        "import plotly.express as px\n",
        "import plotly.graph_objects as go\n",
        "from plotly.subplots import make_subplots\n",
        "\n",
        "# Loading & cleaning data\n",
        "ridership = pd.read_csv(\"/content/drive/MyDrive/NammaMetro_Ridership_Dataset.csv\")\n",
        "\n",
        "# Standardizing column names\n",
        "ridership.columns = ridership.columns.str.strip().str.lower().str.replace(\" \", \"_\")\n",
        "\n",
        "# Converting 'record_date' column to datetime\n",
        "ridership['record_date'] = pd.to_datetime(ridership['record_date'], dayfirst=True, errors='coerce')\n",
        "\n",
        "# List of ticket columns\n",
        "ticket_cols = [\n",
        "    \"total_smart_cards\", \"stored_value_card\", \"one_day_pass\", \"three_day_pass\",\n",
        "    \"five_day_pass\", \"total_tokens\", \"total_ncmc\", \"group_ticket\",\n",
        "    \"total_qr\", \"qr_nammametro\", \"qr_whatsapp\", \"qr_paytm\"\n",
        "]\n",
        "\n",
        "# Total ridership\n",
        "ridership['total_ridership'] = ridership[ticket_cols].sum(axis=1)\n",
        "\n",
        "# Additional breakdowns\n",
        "ridership['month'] = ridership['record_date'].dt.to_period(\"M\")\n",
        "ridership['weekday'] = ridership['record_date'].dt.day_name()\n",
        "ridership['week'] = ridership['record_date'].dt.to_period(\"W\")\n",
        "\n",
        "# Summary KPIs\n",
        "busiest_day = ridership.loc[ridership[\"total_ridership\"].idxmax(), \"record_date\"].strftime(\"%d-%m-%Y\")\n",
        "max_ridership = ridership[\"total_ridership\"].max()\n",
        "popular_ticket = ridership[ticket_cols].sum().idxmax()\n",
        "\n",
        "# Visualizations\n",
        "\n",
        "# 1. Daily Ridership\n",
        "fig_daily = px.line(ridership, x=\"record_date\", y=\"total_ridership\",\n",
        "                    title=\"Daily Metro Ridership\", labels={\"total_ridership\":\"Passengers\"},\n",
        "                    template=\"plotly_white\")\n",
        "\n",
        "# 2. Monthly Ridership\n",
        "monthly = ridership.groupby(\"month\")[\"total_ridership\"].sum().reset_index()\n",
        "monthly[\"month\"] = monthly[\"month\"].astype(str)\n",
        "fig_monthly = px.line(monthly, x=\"month\", y=\"total_ridership\",\n",
        "                      title=\"Monthly Ridership\", labels={\"total_ridership\":\"Passengers\"},\n",
        "                      template=\"plotly_white\")\n",
        "\n",
        "# 3. Weekly Ridership\n",
        "weekly = ridership.groupby(\"week\")[\"total_ridership\"].sum().reset_index()\n",
        "weekly[\"week\"] = weekly[\"week\"].astype(str)\n",
        "fig_weekly = px.line(weekly, x=\"week\", y=\"total_ridership\",\n",
        "                     title=\"Weekly Ridership\", labels={\"total_ridership\":\"Passengers\"},\n",
        "                     template=\"plotly_white\")\n",
        "\n",
        "# 4. Weekday Average Ridership\n",
        "weekday_avg = ridership.groupby(\"weekday\")[\"total_ridership\"].mean().reindex(\n",
        "    [\"Monday\",\"Tuesday\",\"Wednesday\",\"Thursday\",\"Friday\",\"Saturday\",\"Sunday\"]\n",
        ")\n",
        "fig_weekday = px.bar(x=weekday_avg.index, y=weekday_avg.values,\n",
        "                     title=\"Average Ridership by Weekday\",\n",
        "                     labels={\"x\":\"Weekday\",\"y\":\"Avg Passengers\"},\n",
        "                     template=\"plotly_white\")\n",
        "\n",
        "# 5. Ticket Type Distribution\n",
        "ticket_sum = ridership[ticket_cols].sum().sort_values(ascending=False)\n",
        "fig_ticket = px.pie(names=ticket_sum.index, values=ticket_sum.values,\n",
        "                    title=\"Ridership by Ticket Type\", template=\"plotly_white\")\n",
        "\n",
        "# 6. Detailed Heatmap (Day vs Weekday)\n",
        "heatmap_df = ridership.groupby(['record_date','weekday'])['total_ridership'].sum().reset_index()\n",
        "fig_heatmap = px.density_heatmap(heatmap_df, x='record_date', y='weekday', z='total_ridership',\n",
        "                                 title=\"Detailed Ridership Heatmap\",\n",
        "                                 template=\"plotly_white\", nbinsx=30, nbinsy=7,\n",
        "                                 color_continuous_scale=\"Viridis\")\n",
        "\n",
        "\n",
        "# Dashboard Layout (Card-style)\n",
        "\n",
        "dashboard = make_subplots(\n",
        "    rows=3, cols=3,\n",
        "    subplot_titles=(\"Daily Ridership\",\"Monthly Ridership\",\"Weekly Ridership\",\n",
        "                    \"Weekday Avg\",\"Ticket Type Distribution\",\"Heatmap\",\n",
        "                    \"Max Ridership\",\"Busiest Day\",\"Popular Ticket\"),\n",
        "    specs=[[{\"type\":\"xy\"},{\"type\":\"xy\"},{\"type\":\"xy\"}],\n",
        "           [{\"type\":\"xy\"},{\"type\":\"domain\"},{\"type\":\"xy\"}],\n",
        "           [{\"type\":\"indicator\"},{\"type\":\"indicator\"},{\"type\":\"indicator\"}]],\n",
        "    horizontal_spacing=0.08,\n",
        "    vertical_spacing=0.12\n",
        ")\n",
        "\n",
        "# Adding charts\n",
        "for trace in fig_daily.data: dashboard.add_trace(trace, row=1, col=1)\n",
        "for trace in fig_monthly.data: dashboard.add_trace(trace, row=1, col=2)\n",
        "for trace in fig_weekly.data: dashboard.add_trace(trace, row=1, col=3)\n",
        "for trace in fig_weekday.data: dashboard.add_trace(trace, row=2, col=1)\n",
        "for trace in fig_ticket.data: dashboard.add_trace(trace, row=2, col=2)\n",
        "for trace in fig_heatmap.data: dashboard.add_trace(trace, row=2, col=3)\n",
        "\n",
        "# Adding KPI cards\n",
        "dashboard.add_trace(go.Indicator(mode=\"number+delta\", value=max_ridership,\n",
        "                                 title={\"text\":\"Max Ridership\"}, delta={\"reference\":0}),\n",
        "                    row=3, col=1)\n",
        "dashboard.add_trace(go.Indicator(mode=\"number\", value=pd.to_datetime(busiest_day).day,\n",
        "                                 title={\"text\":f\"Busiest Day ({busiest_day})\"},\n",
        "                                 number={\"valueformat\":\".0f\"}),\n",
        "                    row=3, col=2)\n",
        "dashboard.add_trace(go.Indicator(mode=\"number\", value=ticket_sum[popular_ticket],\n",
        "                                 title={\"text\":f\"Popular Ticket: {popular_ticket}\"}),\n",
        "                    row=3, col=3)\n",
        "\n",
        "# Layout updates\n",
        "\n",
        "dashboard.update_layout(\n",
        "    template=\"plotly_white\",\n",
        "    title=\"<b><span style='font-size:28px'>Bengaluru Metro Ridership Dashboard</span></b>\",\n",
        "    title_x=0.5,\n",
        "    showlegend=True,\n",
        "    height=1000, width=1500\n",
        ")\n",
        "\n",
        "dashboard.show()"
      ],
      "metadata": {
        "id": "5SmOFgC9JSdF"
      },
      "execution_count": null,
      "outputs": []
    },
    {
      "cell_type": "markdown",
      "source": [
        "$$..........................Thank You..........................$$"
      ],
      "metadata": {
        "id": "qh8CDNjn1h4L"
      }
    }
  ]
}